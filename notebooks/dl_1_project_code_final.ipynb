{
 "cells": [
  {
   "cell_type": "markdown",
   "metadata": {
    "id": "PCcw2aeilJkW"
   },
   "source": [
    "### Download Dataset"
   ]
  },
  {
   "cell_type": "code",
   "execution_count": 24,
   "metadata": {
    "colab": {
     "base_uri": "https://localhost:8080/"
    },
    "id": "eO8N080OlJHH",
    "outputId": "7145326c-ce2a-48bb-b638-1f298ff60c64"
   },
   "outputs": [
    {
     "name": "stdout",
     "output_type": "stream",
     "text": [
      "Couldn't find program: 'sh'\n"
     ]
    }
   ],
   "source": [
    "%%sh\n",
    "#!/bin/bash\n",
    "pip install gdown\n",
    "pip install keras-tuner\n",
    "if [ -e depression_dataset_reddit_cleaned.csv ]\n",
    "then\n",
    "    echo \"Data set already available.\"\n",
    "else\n",
    "    echo \"Downloading data set.\"\n",
    "    gdown 1jsuygnZ3G6R2lam5huSKBNXOFMCByWz9\n",
    "fi\n",
    "if [ -e glove.6B.zip ]\n",
    "then\n",
    "    echo \"Glove zip already available.\"\n",
    "else\n",
    "    echo \"Downloading glove zip.\"\n",
    "    wget https://nlp.stanford.edu/data/glove.6B.zip\n",
    "    unzip -j glove.6B.zip -d ./\n",
    "fi\n",
    "\n",
    "# gdown 1jsuygnZ3G6R2lam5huSKBNXOFMCByWz9\n",
    "# wget https://nlp.stanford.edu/data/glove.6B.zip\n",
    "# unzip -j glove.6B.zip -d ./"
   ]
  },
  {
   "cell_type": "code",
   "execution_count": 2,
   "metadata": {
    "id": "tsmDVg1wbp6K"
   },
   "outputs": [],
   "source": [
    "import os\n",
    "import pandas as pd\n",
    "import numpy as np\n",
    "import re\n",
    "import string\n",
    "import nltk\n",
    "from nltk.corpus import stopwords\n",
    "from sklearn.model_selection import train_test_split\n",
    "from sklearn import metrics \n",
    "from keras.preprocessing.text import Tokenizer\n",
    "from tensorflow.keras.preprocessing.sequence import pad_sequences\n",
    "from keras.models import Sequential\n",
    "from keras.layers import Dense, LSTM, Embedding\n",
    "from keras.models import load_model\n",
    "from keras.optimizers import RMSprop\n",
    "from keras_tuner import Hyperband\n",
    "from keras.callbacks import EarlyStopping\n",
    "import seaborn as sns\n",
    "import matplotlib.pyplot as plt\n",
    "%matplotlib inline"
   ]
  },
  {
   "cell_type": "code",
   "execution_count": 3,
   "metadata": {
    "colab": {
     "base_uri": "https://localhost:8080/"
    },
    "id": "2dveEJesqnD6",
    "outputId": "59093687-2f15-4390-c7e5-b70af7fce152"
   },
   "outputs": [
    {
     "name": "stderr",
     "output_type": "stream",
     "text": [
      "[nltk_data] Downloading package stopwords to\n",
      "[nltk_data]     C:\\Users\\User\\AppData\\Roaming\\nltk_data...\n",
      "[nltk_data]   Package stopwords is already up-to-date!\n"
     ]
    },
    {
     "data": {
      "text/plain": [
       "True"
      ]
     },
     "execution_count": 3,
     "metadata": {},
     "output_type": "execute_result"
    }
   ],
   "source": [
    "nltk.download('stopwords')"
   ]
  },
  {
   "cell_type": "code",
   "execution_count": 4,
   "metadata": {
    "colab": {
     "base_uri": "https://localhost:8080/"
    },
    "id": "lRxmAIZNEUXg",
    "outputId": "bc26dca5-9f3e-4fc2-b8e1-10fb51f39662"
   },
   "outputs": [
    {
     "data": {
      "text/plain": [
       "[PhysicalDevice(name='/physical_device:CPU:0', device_type='CPU')]"
      ]
     },
     "execution_count": 4,
     "metadata": {},
     "output_type": "execute_result"
    }
   ],
   "source": [
    "from tensorflow.config import list_physical_devices\n",
    "list_physical_devices()"
   ]
  },
  {
   "cell_type": "code",
   "execution_count": 5,
   "metadata": {
    "id": "iK5SeopPov_7"
   },
   "outputs": [],
   "source": [
    "data_set_df = pd.read_csv('depression_dataset_reddit_cleaned.csv')"
   ]
  },
  {
   "cell_type": "code",
   "execution_count": 6,
   "metadata": {
    "colab": {
     "base_uri": "https://localhost:8080/",
     "height": 206
    },
    "id": "ubQpz2sno83s",
    "outputId": "3ff7cf92-1791-4100-c756-d31a535beeea"
   },
   "outputs": [
    {
     "data": {
      "text/html": [
       "<div>\n",
       "<style scoped>\n",
       "    .dataframe tbody tr th:only-of-type {\n",
       "        vertical-align: middle;\n",
       "    }\n",
       "\n",
       "    .dataframe tbody tr th {\n",
       "        vertical-align: top;\n",
       "    }\n",
       "\n",
       "    .dataframe thead th {\n",
       "        text-align: right;\n",
       "    }\n",
       "</style>\n",
       "<table border=\"1\" class=\"dataframe\">\n",
       "  <thead>\n",
       "    <tr style=\"text-align: right;\">\n",
       "      <th></th>\n",
       "      <th>clean_text</th>\n",
       "      <th>is_depression</th>\n",
       "    </tr>\n",
       "  </thead>\n",
       "  <tbody>\n",
       "    <tr>\n",
       "      <th>0</th>\n",
       "      <td>we understand that most people who reply immed...</td>\n",
       "      <td>1</td>\n",
       "    </tr>\n",
       "    <tr>\n",
       "      <th>1</th>\n",
       "      <td>welcome to r depression s check in post a plac...</td>\n",
       "      <td>1</td>\n",
       "    </tr>\n",
       "    <tr>\n",
       "      <th>2</th>\n",
       "      <td>anyone else instead of sleeping more when depr...</td>\n",
       "      <td>1</td>\n",
       "    </tr>\n",
       "    <tr>\n",
       "      <th>3</th>\n",
       "      <td>i ve kind of stuffed around a lot in my life d...</td>\n",
       "      <td>1</td>\n",
       "    </tr>\n",
       "    <tr>\n",
       "      <th>4</th>\n",
       "      <td>sleep is my greatest and most comforting escap...</td>\n",
       "      <td>1</td>\n",
       "    </tr>\n",
       "  </tbody>\n",
       "</table>\n",
       "</div>"
      ],
      "text/plain": [
       "                                          clean_text  is_depression\n",
       "0  we understand that most people who reply immed...              1\n",
       "1  welcome to r depression s check in post a plac...              1\n",
       "2  anyone else instead of sleeping more when depr...              1\n",
       "3  i ve kind of stuffed around a lot in my life d...              1\n",
       "4  sleep is my greatest and most comforting escap...              1"
      ]
     },
     "execution_count": 6,
     "metadata": {},
     "output_type": "execute_result"
    }
   ],
   "source": [
    "data_set_df.head()"
   ]
  },
  {
   "cell_type": "code",
   "execution_count": 7,
   "metadata": {
    "colab": {
     "base_uri": "https://localhost:8080/"
    },
    "id": "DH-KqmrhpdFT",
    "outputId": "84522463-279c-440f-c2d2-30863b9a73dd"
   },
   "outputs": [
    {
     "data": {
      "text/plain": [
       "False"
      ]
     },
     "execution_count": 7,
     "metadata": {},
     "output_type": "execute_result"
    }
   ],
   "source": [
    "data_set_df.isnull().values.any()"
   ]
  },
  {
   "cell_type": "code",
   "execution_count": 8,
   "metadata": {
    "colab": {
     "base_uri": "https://localhost:8080/"
    },
    "id": "GMGIoay5phWk",
    "outputId": "9a2c0ece-2dd0-4407-faca-d82fb3b87d14"
   },
   "outputs": [
    {
     "data": {
      "text/plain": [
       "(7731, 2)"
      ]
     },
     "execution_count": 8,
     "metadata": {},
     "output_type": "execute_result"
    }
   ],
   "source": [
    "data_set_df.shape"
   ]
  },
  {
   "cell_type": "code",
   "execution_count": 9,
   "metadata": {
    "colab": {
     "base_uri": "https://localhost:8080/",
     "height": 123
    },
    "id": "8dB0PrxRprO3",
    "outputId": "86136e31-1b89-4b55-e603-c82fd48b328d"
   },
   "outputs": [
    {
     "data": {
      "text/plain": [
       "'i ve been struggling with depression for a long time now but i just my first severe instance of depersonalization and it scared me so badly i m not even entirely sure why but something about the fact that i just spent over an hour lying on the floor feeling like my body didn t really belong to me and i might not be real is so extremely unsettling to me i feel more mentally and physically myself now and just trying to process what happened is really difficult if anyone ha any kind of comfort or advice about depersonalization i d appreciate it'"
      ]
     },
     "execution_count": 9,
     "metadata": {},
     "output_type": "execute_result"
    }
   ],
   "source": [
    "data_set_df[\"clean_text\"][10]"
   ]
  },
  {
   "cell_type": "code",
   "execution_count": 10,
   "metadata": {
    "colab": {
     "base_uri": "https://localhost:8080/",
     "height": 298
    },
    "id": "92VxQAaVqBQE",
    "outputId": "d33b5b8c-269c-4084-efe4-a6b38ab39b48"
   },
   "outputs": [
    {
     "data": {
      "text/plain": [
       "<AxesSubplot: xlabel='is_depression', ylabel='count'>"
      ]
     },
     "execution_count": 10,
     "metadata": {},
     "output_type": "execute_result"
    },
    {
     "data": {
      "image/png": "[encoded data removed]",
      "text/plain": [
       "<Figure size 640x480 with 1 Axes>"
      ]
     },
     "metadata": {},
     "output_type": "display_data"
    }
   ],
   "source": [
    "sns.countplot(x='is_depression', data=data_set_df)"
   ]
  },
  {
   "cell_type": "markdown",
   "metadata": {
    "id": "uwcwB4iuqSvo"
   },
   "source": [
    "### Pre-processing of text\n",
    "- Removing html tags\n",
    "- Removing punctutations and numbers\n",
    "- Removing Multiple spaces\n",
    "- so on"
   ]
  },
  {
   "cell_type": "code",
   "execution_count": 11,
   "metadata": {
    "id": "3iOvoA0mqLK1"
   },
   "outputs": [],
   "source": [
    "stop_words = stopwords.words('english') #English language's stop words\n",
    "\n",
    "def textpreprocess(s):\n",
    "    \"\"\"This function cleans the text\n",
    "    Input: string to be cleaned\n",
    "    Return: string after cleaning\n",
    "    \"\"\"\n",
    "    words = [] # empty list\n",
    "    \n",
    "    s = s.strip().lower() # lower the string\n",
    "    s = re.sub('\\[.*?\\]', '', s) # removes symbols (.*?\\)\n",
    "    s = re.sub('https?://\\S+|www\\.\\S+', '', s) # remove URLS\n",
    "    s = re.sub('<.*?>+', '', s)\n",
    "    s = re.sub('[%s]' % re.escape(string.punctuation), '', s) # remove punctuations\n",
    "    s = re.sub('\\n', '', s) # remove next line character\n",
    "    s = re.sub('\\w*\\d\\w*', '', s)\n",
    "    \n",
    "    words = s.split() # split the string into list of words\n",
    "    words = [word for word in words if word not in stop_words] # removing stop words\n",
    "    s = ' '.join(words) # converting list to string\n",
    "    \n",
    "    return s"
   ]
  },
  {
   "cell_type": "code",
   "execution_count": 12,
   "metadata": {
    "id": "HZW-h80SqToQ"
   },
   "outputs": [],
   "source": [
    "X = []\n",
    "sentences = list(data_set_df['clean_text'])\n",
    "for sen in sentences:\n",
    "    X.append(textpreprocess(sen))"
   ]
  },
  {
   "cell_type": "code",
   "execution_count": 13,
   "metadata": {
    "colab": {
     "base_uri": "https://localhost:8080/",
     "height": 88
    },
    "id": "lHz5i93vq5MW",
    "outputId": "f5f669a5-16e1-4914-e780-6680418a9604"
   },
   "outputs": [
    {
     "data": {
      "text/plain": [
       "'struggling depression long time first severe instance depersonalization scared badly even entirely sure something fact spent hour lying floor feeling like body really belong might real extremely unsettling feel mentally physically trying process happened really difficult anyone ha kind comfort advice depersonalization appreciate'"
      ]
     },
     "execution_count": 13,
     "metadata": {},
     "output_type": "execute_result"
    }
   ],
   "source": [
    "X[10]"
   ]
  },
  {
   "cell_type": "code",
   "execution_count": 14,
   "metadata": {
    "colab": {
     "base_uri": "https://localhost:8080/"
    },
    "id": "A2FxK5VorE7w",
    "outputId": "91f7df65-c235-43d4-b9b3-82ddd1853620"
   },
   "outputs": [
    {
     "data": {
      "text/plain": [
       "array([[1.],\n",
       "       [1.],\n",
       "       [1.],\n",
       "       ...,\n",
       "       [0.],\n",
       "       [0.],\n",
       "       [0.]], dtype=float32)"
      ]
     },
     "execution_count": 14,
     "metadata": {},
     "output_type": "execute_result"
    }
   ],
   "source": [
    "y = np.asarray(data_set_df['is_depression']).astype('float32').reshape((-1,1))\n",
    "y"
   ]
  },
  {
   "cell_type": "markdown",
   "metadata": {
    "id": "Lkx4thEAraiV"
   },
   "source": [
    "### Split the dataset to train and test"
   ]
  },
  {
   "cell_type": "code",
   "execution_count": 16,
   "metadata": {
    "id": "n5gYF6ZzrTui"
   },
   "outputs": [],
   "source": [
    "X_train, X_test, y_train, y_test = train_test_split(X, y, test_size=0.20, random_state=42)"
   ]
  },
  {
   "cell_type": "markdown",
   "metadata": {
    "id": "XC18iD7SrzaH"
   },
   "source": [
    "### Use Tokenizer to integer encode the documents"
   ]
  },
  {
   "cell_type": "code",
   "execution_count": 17,
   "metadata": {
    "id": "6eRjk36Yr0LW"
   },
   "outputs": [],
   "source": [
    "num_words_ = 5000\n",
    "oov_tok = \"<OOV>\"\n",
    "\n",
    "tokenizer = Tokenizer(num_words=num_words_, oov_token=oov_tok)\n",
    "tokenizer.fit_on_texts(X_train)\n",
    "\n",
    "X_train = tokenizer.texts_to_sequences(X_train)\n",
    "X_test = tokenizer.texts_to_sequences(X_test)"
   ]
  },
  {
   "cell_type": "markdown",
   "metadata": {
    "id": "1PSSlIsvsJ4J"
   },
   "source": [
    "### Pad Sequences to create equal-length inputs"
   ]
  },
  {
   "cell_type": "code",
   "execution_count": 18,
   "metadata": {
    "id": "g8juFBXTsCKb"
   },
   "outputs": [],
   "source": [
    "vocab_size = len(tokenizer.word_index) + 1\n",
    "\n",
    "maxlen = 500\n",
    "trunc_type='post'\n",
    "padding_type='post'\n",
    "\n",
    "X_train = pad_sequences(X_train, maxlen=maxlen, truncating= trunc_type, padding=padding_type)\n",
    "X_test = pad_sequences(X_test, padding='post', maxlen=maxlen)"
   ]
  },
  {
   "cell_type": "markdown",
   "metadata": {
    "id": "oDpugGW7uUay"
   },
   "source": [
    "### Load GloVe embedding into memory"
   ]
  },
  {
   "cell_type": "code",
   "execution_count": 19,
   "metadata": {
    "id": "LyLJUH6ms46U"
   },
   "outputs": [],
   "source": [
    "embeddings_dictionary = dict()\n",
    "glove_file = open('glove.6B//glove.6B.50d.txt', encoding=\"utf8\")\n",
    "\n",
    "for line in glove_file:\n",
    "    records = line.split()\n",
    "    word = records[0]\n",
    "    vector_dimensions = np.asarray(records[1:], dtype='float32')\n",
    "    embeddings_dictionary [word] = vector_dimensions\n",
    "glove_file.close()"
   ]
  },
  {
   "cell_type": "markdown",
   "metadata": {
    "id": "72VMpwTlz_l0"
   },
   "source": [
    "### Create Embedding matrix for our Kaggle dataset"
   ]
  },
  {
   "cell_type": "code",
   "execution_count": 20,
   "metadata": {
    "id": "4hDzk2Eus9Ut"
   },
   "outputs": [],
   "source": [
    "embedding_matrix = np.zeros((vocab_size, 50))\n",
    "for word, index in tokenizer.word_index.items():\n",
    "    embedding_vector = embeddings_dictionary.get(word)\n",
    "    if embedding_vector is not None:\n",
    "        embedding_matrix[index] = embedding_vector"
   ]
  },
  {
   "cell_type": "markdown",
   "metadata": {
    "id": "k0aO2KAg0oTl"
   },
   "source": [
    "### Build the model - LSTM"
   ]
  },
  {
   "cell_type": "code",
   "execution_count": 21,
   "metadata": {
    "id": "dBUmwn2r0n-_"
   },
   "outputs": [],
   "source": [
    "model = Sequential()\n",
    "embedding_layer = Embedding(vocab_size, 50, \n",
    "weights=[embedding_matrix], \n",
    "        input_length=maxlen,trainable=False)\n",
    "model.add(embedding_layer)\n",
    "model.add(LSTM(128, activation='tanh', \n",
    "               return_sequences=True))\n",
    "model.add(LSTM(64, activation='tanh', \n",
    "               return_sequences=True))\n",
    "model.add(LSTM(32, activation='tanh'))\n",
    "model.add(Dense(16, activation='sigmoid'))\n",
    "model.add(Dense(1, activation='sigmoid'))"
   ]
  },
  {
   "cell_type": "code",
   "execution_count": 31,
   "metadata": {
    "colab": {
     "base_uri": "https://localhost:8080/"
    },
    "id": "DKmw7gk21sZA",
    "outputId": "1b9ead6c-7342-48ab-faa8-5b62356c4fb2"
   },
   "outputs": [
    {
     "name": "stdout",
     "output_type": "stream",
     "text": [
      "Model: \"sequential\"\n",
      "_________________________________________________________________\n",
      " Layer (type)                Output Shape              Param #   \n",
      "=================================================================\n",
      " embedding (Embedding)       (None, 500, 50)           825150    \n",
      "                                                                 \n",
      " lstm (LSTM)                 (None, 500, 128)          91648     \n",
      "                                                                 \n",
      " lstm_1 (LSTM)               (None, 500, 64)           49408     \n",
      "                                                                 \n",
      " lstm_2 (LSTM)               (None, 32)                12416     \n",
      "                                                                 \n",
      " dense (Dense)               (None, 16)                528       \n",
      "                                                                 \n",
      " dense_1 (Dense)             (None, 1)                 17        \n",
      "                                                                 \n",
      "=================================================================\n",
      "Total params: 979,167\n",
      "Trainable params: 154,017\n",
      "Non-trainable params: 825,150\n",
      "_________________________________________________________________\n",
      "None\n"
     ]
    }
   ],
   "source": [
    "model.compile(optimizer='rmsprop', \n",
    "              loss='binary_crossentropy', \n",
    "              metrics=['accuracy'])\n",
    "\n",
    "print(model.summary())"
   ]
  },
  {
   "cell_type": "markdown",
   "metadata": {
    "id": "Yv-vLQUo1_ey"
   },
   "source": [
    "### Fit the model"
   ]
  },
  {
   "cell_type": "code",
   "execution_count": 32,
   "metadata": {
    "id": "oDbqCWPu1-5R"
   },
   "outputs": [],
   "source": [
    "if os.path.isfile('model.h5'):\n",
    "  model = load_model('model.h5')\n",
    "  history = pd.read_csv('history.csv')\n",
    "else:\n",
    "  history = model.fit(X_train, y_train, batch_size=128, epochs=100, verbose=1, validation_split=0.1)\n",
    "  history = pd.DataFrame(history.history)"
   ]
  },
  {
   "cell_type": "markdown",
   "metadata": {
    "id": "foyN2CBJHr9J"
   },
   "source": [
    "### Evaluate Training phase"
   ]
  },
  {
   "cell_type": "code",
   "execution_count": 39,
   "metadata": {
    "colab": {
     "base_uri": "https://localhost:8080/"
    },
    "id": "EDJXxxCaHjX6",
    "outputId": "3d90ed0a-1d3d-4f6f-eb59-9fcfd0d39b6f"
   },
   "outputs": [
    {
     "name": "stdout",
     "output_type": "stream",
     "text": [
      "194/194 [==============================] - 120s 597ms/step - loss: 0.0986 - accuracy: 0.9701\n"
     ]
    },
    {
     "data": {
      "text/plain": [
       "[0.098592109978199, 0.9700840711593628]"
      ]
     },
     "execution_count": 39,
     "metadata": {},
     "output_type": "execute_result"
    }
   ],
   "source": [
    "score = model.evaluate(X_train, y_train, verbose=1)\n",
    "score"
   ]
  },
  {
   "cell_type": "code",
   "execution_count": 40,
   "metadata": {
    "colab": {
     "base_uri": "https://localhost:8080/"
    },
    "id": "aViS4L1RH01l",
    "outputId": "e596e896-cc68-4266-e0ae-d9b22e8a402c"
   },
   "outputs": [
    {
     "name": "stdout",
     "output_type": "stream",
     "text": [
      "Train Loss: 0.098592109978199\n",
      "Train Accuracy: 0.9700840711593628\n"
     ]
    }
   ],
   "source": [
    "print(\"Train Loss:\", score[0])\n",
    "print(\"Train Accuracy:\", score[1])"
   ]
  },
  {
   "cell_type": "markdown",
   "metadata": {
    "id": "30OIGehIH9IZ"
   },
   "source": [
    "### Evaluate Testing phase"
   ]
  },
  {
   "cell_type": "code",
   "execution_count": 42,
   "metadata": {
    "colab": {
     "base_uri": "https://localhost:8080/"
    },
    "id": "sB1V2DfhH8uk",
    "outputId": "f9ecb6fa-f506-4f5c-87f9-6a7b2d5c5764"
   },
   "outputs": [
    {
     "name": "stdout",
     "output_type": "stream",
     "text": [
      "49/49 [==============================] - 29s 596ms/step - loss: 0.1422 - accuracy: 0.9541\n"
     ]
    },
    {
     "data": {
      "text/plain": [
       "[0.14216981828212738, 0.9541047215461731]"
      ]
     },
     "execution_count": 42,
     "metadata": {},
     "output_type": "execute_result"
    }
   ],
   "source": [
    "score = model.evaluate(X_test, y_test, verbose=1)\n",
    "score"
   ]
  },
  {
   "cell_type": "code",
   "execution_count": 43,
   "metadata": {
    "colab": {
     "base_uri": "https://localhost:8080/"
    },
    "id": "08-KEi4OIIPe",
    "outputId": "d37502c7-384d-463b-b1e8-9c098baa9c4e"
   },
   "outputs": [
    {
     "name": "stdout",
     "output_type": "stream",
     "text": [
      "Test Loss: 0.14216981828212738\n",
      "Test Accuracy: 0.9541047215461731\n"
     ]
    }
   ],
   "source": [
    "print(\"Test Loss:\", score[0])\n",
    "print(\"Test Accuracy:\", score[1])"
   ]
  },
  {
   "cell_type": "code",
   "execution_count": 44,
   "metadata": {
    "colab": {
     "base_uri": "https://localhost:8080/"
    },
    "id": "Y6_bQMdLxt56",
    "outputId": "cb59cee7-e626-4dc5-d79f-e34937db2a55"
   },
   "outputs": [
    {
     "data": {
      "text/plain": [
       "array([[ 257,   22,    1, ...,    0,    0,    0],\n",
       "       [ 546,   14, 3876, ...,    0,    0,    0],\n",
       "       [  25,  643,    8, ...,    0,    0,    0],\n",
       "       ...,\n",
       "       [   4,  655,  446, ...,    0,    0,    0],\n",
       "       [ 726,  220, 1535, ...,    0,    0,    0],\n",
       "       [ 127,   25,  172, ...,    0,    0,    0]])"
      ]
     },
     "execution_count": 44,
     "metadata": {},
     "output_type": "execute_result"
    }
   ],
   "source": [
    "X_test"
   ]
  },
  {
   "cell_type": "code",
   "execution_count": 45,
   "metadata": {
    "colab": {
     "base_uri": "https://localhost:8080/"
    },
    "id": "lHGXEUoX0dSD",
    "outputId": "5e419547-d05d-4611-c1e6-c5b39e0e15bb"
   },
   "outputs": [
    {
     "name": "stdout",
     "output_type": "stream",
     "text": [
      "49/49 [==============================] - 31s 573ms/step\n"
     ]
    },
    {
     "data": {
      "text/plain": [
       "array([[0.9958289 ],\n",
       "       [0.9950951 ],\n",
       "       [0.99585116],\n",
       "       ...,\n",
       "       [0.9958539 ],\n",
       "       [0.9958291 ],\n",
       "       [0.02748695]], dtype=float32)"
      ]
     },
     "execution_count": 45,
     "metadata": {},
     "output_type": "execute_result"
    }
   ],
   "source": [
    "y_test_pred = model.predict(X_test)\n",
    "y_test_pred"
   ]
  },
  {
   "cell_type": "code",
   "execution_count": 46,
   "metadata": {
    "colab": {
     "base_uri": "https://localhost:8080/"
    },
    "id": "UxauWREQ1ikB",
    "outputId": "aac889eb-7672-4f62-8a16-b3159dd2dfbc"
   },
   "outputs": [
    {
     "data": {
      "text/plain": [
       "array([[1],\n",
       "       [1],\n",
       "       [1],\n",
       "       ...,\n",
       "       [1],\n",
       "       [1],\n",
       "       [0]])"
      ]
     },
     "execution_count": 46,
     "metadata": {},
     "output_type": "execute_result"
    }
   ],
   "source": [
    "y_test_pred = (y_test_pred > 0.5).astype(\"int32\")\n",
    "y_test_pred"
   ]
  },
  {
   "cell_type": "code",
   "execution_count": 47,
   "metadata": {
    "colab": {
     "base_uri": "https://localhost:8080/"
    },
    "id": "Au3-5q8F22IY",
    "outputId": "d02eb8c6-6760-4b87-9f73-1bc25db96e01"
   },
   "outputs": [
    {
     "data": {
      "text/plain": [
       "array([[752,  31],\n",
       "       [ 40, 724]], dtype=int64)"
      ]
     },
     "execution_count": 47,
     "metadata": {},
     "output_type": "execute_result"
    }
   ],
   "source": [
    "confusion_matrix = metrics.confusion_matrix(y_test, y_test_pred) \n",
    "confusion_matrix"
   ]
  },
  {
   "cell_type": "code",
   "execution_count": 48,
   "metadata": {
    "colab": {
     "base_uri": "https://localhost:8080/",
     "height": 279
    },
    "id": "hyvJpvSC3WPT",
    "outputId": "86990133-349c-4091-ed3d-a49ecd3fa164"
   },
   "outputs": [
    {
     "data": {
      "image/png": "[encoded data removed]",
      "text/plain": [
       "<Figure size 640x480 with 2 Axes>"
      ]
     },
     "metadata": {},
     "output_type": "display_data"
    }
   ],
   "source": [
    "cm_display = metrics.ConfusionMatrixDisplay(confusion_matrix = confusion_matrix, display_labels = [False, True]) \n",
    "cm_display.plot()\n",
    "plt.show() "
   ]
  },
  {
   "cell_type": "markdown",
   "metadata": {
    "id": "7U2vKWATINwL"
   },
   "source": [
    "### Plot the training and testing accuracy and loss"
   ]
  },
  {
   "cell_type": "code",
   "execution_count": 49,
   "metadata": {
    "colab": {
     "base_uri": "https://localhost:8080/",
     "height": 423
    },
    "id": "I0v2fnnJzsCo",
    "outputId": "ee5a7f11-d4f0-4e1e-8f20-f507ea3529c0"
   },
   "outputs": [
    {
     "data": {
      "text/html": [
       "<div>\n",
       "<style scoped>\n",
       "    .dataframe tbody tr th:only-of-type {\n",
       "        vertical-align: middle;\n",
       "    }\n",
       "\n",
       "    .dataframe tbody tr th {\n",
       "        vertical-align: top;\n",
       "    }\n",
       "\n",
       "    .dataframe thead th {\n",
       "        text-align: right;\n",
       "    }\n",
       "</style>\n",
       "<table border=\"1\" class=\"dataframe\">\n",
       "  <thead>\n",
       "    <tr style=\"text-align: right;\">\n",
       "      <th></th>\n",
       "      <th>Unnamed: 0</th>\n",
       "      <th>loss</th>\n",
       "      <th>accuracy</th>\n",
       "      <th>val_loss</th>\n",
       "      <th>val_accuracy</th>\n",
       "    </tr>\n",
       "  </thead>\n",
       "  <tbody>\n",
       "    <tr>\n",
       "      <th>0</th>\n",
       "      <td>0</td>\n",
       "      <td>0.694509</td>\n",
       "      <td>0.499730</td>\n",
       "      <td>0.691948</td>\n",
       "      <td>0.520194</td>\n",
       "    </tr>\n",
       "    <tr>\n",
       "      <th>1</th>\n",
       "      <td>1</td>\n",
       "      <td>0.694402</td>\n",
       "      <td>0.495058</td>\n",
       "      <td>0.697934</td>\n",
       "      <td>0.483037</td>\n",
       "    </tr>\n",
       "    <tr>\n",
       "      <th>2</th>\n",
       "      <td>2</td>\n",
       "      <td>0.694073</td>\n",
       "      <td>0.492543</td>\n",
       "      <td>0.692276</td>\n",
       "      <td>0.520194</td>\n",
       "    </tr>\n",
       "    <tr>\n",
       "      <th>3</th>\n",
       "      <td>3</td>\n",
       "      <td>0.692681</td>\n",
       "      <td>0.511051</td>\n",
       "      <td>0.688394</td>\n",
       "      <td>0.520194</td>\n",
       "    </tr>\n",
       "    <tr>\n",
       "      <th>4</th>\n",
       "      <td>4</td>\n",
       "      <td>0.698462</td>\n",
       "      <td>0.513208</td>\n",
       "      <td>0.692181</td>\n",
       "      <td>0.500808</td>\n",
       "    </tr>\n",
       "    <tr>\n",
       "      <th>...</th>\n",
       "      <td>...</td>\n",
       "      <td>...</td>\n",
       "      <td>...</td>\n",
       "      <td>...</td>\n",
       "      <td>...</td>\n",
       "    </tr>\n",
       "    <tr>\n",
       "      <th>95</th>\n",
       "      <td>95</td>\n",
       "      <td>0.133546</td>\n",
       "      <td>0.964061</td>\n",
       "      <td>0.649509</td>\n",
       "      <td>0.852989</td>\n",
       "    </tr>\n",
       "    <tr>\n",
       "      <th>96</th>\n",
       "      <td>96</td>\n",
       "      <td>0.251805</td>\n",
       "      <td>0.926505</td>\n",
       "      <td>0.170386</td>\n",
       "      <td>0.951535</td>\n",
       "    </tr>\n",
       "    <tr>\n",
       "      <th>97</th>\n",
       "      <td>97</td>\n",
       "      <td>0.097450</td>\n",
       "      <td>0.972147</td>\n",
       "      <td>0.179713</td>\n",
       "      <td>0.946688</td>\n",
       "    </tr>\n",
       "    <tr>\n",
       "      <th>98</th>\n",
       "      <td>98</td>\n",
       "      <td>0.120309</td>\n",
       "      <td>0.965678</td>\n",
       "      <td>0.178155</td>\n",
       "      <td>0.948304</td>\n",
       "    </tr>\n",
       "    <tr>\n",
       "      <th>99</th>\n",
       "      <td>99</td>\n",
       "      <td>0.106281</td>\n",
       "      <td>0.969811</td>\n",
       "      <td>0.176098</td>\n",
       "      <td>0.948304</td>\n",
       "    </tr>\n",
       "  </tbody>\n",
       "</table>\n",
       "<p>100 rows × 5 columns</p>\n",
       "</div>"
      ],
      "text/plain": [
       "    Unnamed: 0      loss  accuracy  val_loss  val_accuracy\n",
       "0            0  0.694509  0.499730  0.691948      0.520194\n",
       "1            1  0.694402  0.495058  0.697934      0.483037\n",
       "2            2  0.694073  0.492543  0.692276      0.520194\n",
       "3            3  0.692681  0.511051  0.688394      0.520194\n",
       "4            4  0.698462  0.513208  0.692181      0.500808\n",
       "..         ...       ...       ...       ...           ...\n",
       "95          95  0.133546  0.964061  0.649509      0.852989\n",
       "96          96  0.251805  0.926505  0.170386      0.951535\n",
       "97          97  0.097450  0.972147  0.179713      0.946688\n",
       "98          98  0.120309  0.965678  0.178155      0.948304\n",
       "99          99  0.106281  0.969811  0.176098      0.948304\n",
       "\n",
       "[100 rows x 5 columns]"
      ]
     },
     "execution_count": 49,
     "metadata": {},
     "output_type": "execute_result"
    }
   ],
   "source": [
    "history"
   ]
  },
  {
   "cell_type": "code",
   "execution_count": 50,
   "metadata": {
    "colab": {
     "base_uri": "https://localhost:8080/",
     "height": 573
    },
    "id": "FHkHc6xLISX1",
    "outputId": "b9024585-bb5e-4fd2-eb8d-852db81328ca"
   },
   "outputs": [
    {
     "data": {
      "image/png": "[encoded data removed]",
      "text/plain": [
       "<Figure size 640x480 with 1 Axes>"
      ]
     },
     "metadata": {},
     "output_type": "display_data"
    },
    {
     "data": {
      "image/png": "[encoded data removed]",
      "text/plain": [
       "<Figure size 640x480 with 1 Axes>"
      ]
     },
     "metadata": {},
     "output_type": "display_data"
    }
   ],
   "source": [
    "plt.plot(history['accuracy'])\n",
    "plt.plot(history['val_accuracy'])\n",
    "\n",
    "plt.title('model accuracy')\n",
    "plt.ylabel('accuracy')\n",
    "plt.xlabel('epoch')\n",
    "plt.legend(['train','validation'], loc='upper left')\n",
    "plt.show()\n",
    "\n",
    "plt.plot(history['loss'])\n",
    "plt.plot(history['val_loss'])\n",
    "\n",
    "plt.title('model loss')\n",
    "plt.ylabel('loss')\n",
    "plt.xlabel('epoch')\n",
    "plt.legend(['train','validation'], loc='upper left')\n",
    "plt.show()"
   ]
  },
  {
   "cell_type": "markdown",
   "metadata": {
    "id": "ZOtMtpwtIkQJ"
   },
   "source": [
    "### Save Model"
   ]
  },
  {
   "cell_type": "code",
   "execution_count": 51,
   "metadata": {
    "id": "_4U2-63qIpoQ"
   },
   "outputs": [],
   "source": [
    "if not os.path.isfile('model.h5'):\n",
    "  model.save('model.h5', save_format='h5')\n",
    "  history.to_csv('history.csv',header=True)"
   ]
  },
  {
   "cell_type": "markdown",
   "metadata": {
    "id": "SV-uFhzE8Mp7"
   },
   "source": [
    "### Hypertuning with Keras Tuner"
   ]
  },
  {
   "cell_type": "markdown",
   "metadata": {
    "id": "m92Bz4RV9Ma3"
   },
   "source": [
    "#### Define the model architecture"
   ]
  },
  {
   "cell_type": "code",
   "execution_count": 52,
   "metadata": {
    "id": "EumfXLEf-Njc"
   },
   "outputs": [],
   "source": [
    "def hypertune_model(hp):\n",
    "    \"\"\"\n",
    "    Builds model and sets up hyperparameter space to search.\n",
    "    \n",
    "    Parameters\n",
    "    ----------\n",
    "    hp : HyperParameter object\n",
    "        Configures hyperparameters to tune.\n",
    "        \n",
    "    Returns\n",
    "    -------\n",
    "    model : keras model\n",
    "        Compiled model with hyperparameters to tune.\n",
    "    \"\"\"\n",
    "    # Initialize sequential API and start building model.\n",
    "    model = Sequential()\n",
    "    model.add(embedding_layer)\n",
    "    \n",
    "    # Tune the number of hidden layers and units in each.\n",
    "    # Number of hidden layers: 1 - 5\n",
    "    # Number of Units: 32 - 512 with stepsize of 32\n",
    "    for i in range(1, hp.Int(\"lstm_num_layers\", 2, 6)):\n",
    "        model.add(\n",
    "            LSTM(hp.Int(\"lstm_units_\" + str(i), min_value=32, max_value=512, step=32),\n",
    "                       activation='tanh', \n",
    "                       return_sequences=True)\n",
    "            )\n",
    "    \n",
    "    for i in range(1, hp.Int(\"dense_num_layers\", 1, 3)):\n",
    "        model.add(\n",
    "            Dense(hp.Int(\"dense_units_\" + str(i), min_value=32, max_value=64, step=16),\n",
    "                       activation='sigmoid')\n",
    "            )\n",
    "    \n",
    "    # Add output layer.\n",
    "    model.add(Dense(units=1, activation=\"sigmoid\"))\n",
    "    \n",
    "    # Tune learning rate for Adam optimizer with values from 0.01, 0.001, or 0.0001\n",
    "    hp_learning_rate = hp.Choice(\"learning_rate\", values=[1e-2, 1e-3, 1e-4])\n",
    "    \n",
    "    model.compile(optimizer=RMSprop(learning_rate=hp_learning_rate),\n",
    "                  loss='binary_crossentropy',\n",
    "                  metrics=[\"accuracy\"])\n",
    "    \n",
    "    return model"
   ]
  },
  {
   "cell_type": "code",
   "execution_count": 53,
   "metadata": {
    "id": "9KyK1vAJBksv"
   },
   "outputs": [],
   "source": [
    "tuner = Hyperband(hypertune_model,\n",
    "                     objective=\"val_accuracy\",\n",
    "                     max_epochs=20,\n",
    "                     factor=3,\n",
    "                     hyperband_iterations=10,\n",
    "                     directory='hypertuning',\n",
    "                     seed=12,\n",
    "                     project_name='hypertuned_model',)"
   ]
  },
  {
   "cell_type": "code",
   "execution_count": 54,
   "metadata": {
    "colab": {
     "base_uri": "https://localhost:8080/"
    },
    "id": "78k93Pe9FFGO",
    "outputId": "d7f07e54-6466-4950-d14f-2a74c1db32c1"
   },
   "outputs": [
    {
     "name": "stdout",
     "output_type": "stream",
     "text": [
      "Search space summary\n",
      "Default search space size: 4\n",
      "lstm_num_layers (Int)\n",
      "{'default': None, 'conditions': [], 'min_value': 2, 'max_value': 6, 'step': 1, 'sampling': 'linear'}\n",
      "lstm_units_1 (Int)\n",
      "{'default': None, 'conditions': [], 'min_value': 32, 'max_value': 512, 'step': 32, 'sampling': 'linear'}\n",
      "dense_num_layers (Int)\n",
      "{'default': None, 'conditions': [], 'min_value': 1, 'max_value': 3, 'step': 1, 'sampling': 'linear'}\n",
      "learning_rate (Choice)\n",
      "{'default': 0.01, 'conditions': [], 'values': [0.01, 0.001, 0.0001], 'ordered': True}\n"
     ]
    }
   ],
   "source": [
    "tuner.search_space_summary()"
   ]
  },
  {
   "cell_type": "code",
   "execution_count": 39,
   "metadata": {
    "colab": {
     "base_uri": "https://localhost:8080/"
    },
    "id": "_u4dcqsjIAxR",
    "outputId": "981cb8a5-af04-42bf-dd1e-649f33ff50b2",
    "scrolled": true
   },
   "outputs": [
    {
     "name": "stdout",
     "output_type": "stream",
     "text": [
      "Model: \"sequential_1\"\n",
      "_________________________________________________________________\n",
      " Layer (type)                Output Shape              Param #   \n",
      "=================================================================\n",
      " embedding_1 (Embedding)     (None, 500, 50)           825150    \n",
      "                                                                 \n",
      " lstm_4 (LSTM)               (None, 500, 480)          1019520   \n",
      "                                                                 \n",
      " lstm_5 (LSTM)               (None, 500, 32)           65664     \n",
      "                                                                 \n",
      " lstm_6 (LSTM)               (None, 500, 160)          123520    \n",
      "                                                                 \n",
      " dense_2 (Dense)             (None, 500, 1)            161       \n",
      "                                                                 \n",
      "=================================================================\n",
      "Total params: 2,034,015\n",
      "Trainable params: 1,208,865\n",
      "Non-trainable params: 825,150\n",
      "_________________________________________________________________\n"
     ]
    }
   ],
   "source": [
    "hypertuned_best_model.summary()"
   ]
  },
  {
   "cell_type": "markdown",
   "metadata": {
    "id": "uFqip2PDGt61"
   },
   "source": [
    "### Save the best hypertuned model"
   ]
  },
  {
   "cell_type": "code",
   "execution_count": 57,
   "metadata": {
    "id": "cZH78Im5-zS8"
   },
   "outputs": [],
   "source": [
    "# ! zip -r hypertuning.zip hypertuning"
   ]
  },
  {
   "cell_type": "markdown",
   "metadata": {
    "id": "kJ18KOHvwEKg"
   },
   "source": [
    "### Evaluate Training phase for Best Model"
   ]
  },
  {
   "cell_type": "code",
   "execution_count": 43,
   "metadata": {
    "colab": {
     "base_uri": "https://localhost:8080/"
    },
    "id": "XaZTL81UwEKm",
    "outputId": "f4af5338-3c89-4a43-b012-75b68bf928b4"
   },
   "outputs": [
    {
     "name": "stdout",
     "output_type": "stream",
     "text": [
      "Train Loss: 0.039728403091430664\n",
      "Train Accuracy: 0.9919441342353821\n"
     ]
    }
   ],
   "source": [
    "print(\"Train Loss:\", score[0])\n",
    "print(\"Train Accuracy:\", score[1])"
   ]
  },
  {
   "cell_type": "markdown",
   "metadata": {
    "id": "nAFyvHxVwEKo"
   },
   "source": [
    "### Evaluate Testing phase for Best Model"
   ]
  },
  {
   "cell_type": "code",
   "execution_count": 44,
   "metadata": {
    "colab": {
     "base_uri": "https://localhost:8080/"
    },
    "id": "36aL29bvwEKo",
    "outputId": "4aee89ad-ca00-4951-8d1c-e44971163ba8"
   },
   "outputs": [
    {
     "name": "stdout",
     "output_type": "stream",
     "text": [
      "49/49 [==============================] - 2s 35ms/step - loss: 0.2432 - accuracy: 0.9558\n"
     ]
    },
    {
     "data": {
      "text/plain": [
       "[0.24318049848079681, 0.9558421969413757]"
      ]
     },
     "execution_count": 44,
     "metadata": {},
     "output_type": "execute_result"
    }
   ],
   "source": [
    "score = hypertuned_best_model.evaluate(X_test, y_test, verbose=1)\n",
    "score"
   ]
  },
  {
   "cell_type": "code",
   "execution_count": 45,
   "metadata": {
    "colab": {
     "base_uri": "https://localhost:8080/"
    },
    "id": "kERtUIGAwEKp",
    "outputId": "c8448ec1-0c2a-41ac-924d-00354323b1bf"
   },
   "outputs": [
    {
     "name": "stdout",
     "output_type": "stream",
     "text": [
      "Test Loss: 0.24318049848079681\n",
      "Test Accuracy: 0.9558421969413757\n"
     ]
    }
   ],
   "source": [
    "print(\"Test Loss:\", score[0])\n",
    "print(\"Test Accuracy:\", score[1])"
   ]
  },
  {
   "cell_type": "code",
   "execution_count": 46,
   "metadata": {
    "colab": {
     "base_uri": "https://localhost:8080/"
    },
    "id": "deQrdmDhxq1R",
    "outputId": "b5ffda9c-5f35-446e-8cf5-e38f48018a67"
   },
   "outputs": [
    {
     "data": {
      "text/plain": [
       "array([[ 257,   22,    1, ...,    0,    0,    0],\n",
       "       [ 546,   14, 3876, ...,    0,    0,    0],\n",
       "       [  25,  643,    8, ...,    0,    0,    0],\n",
       "       ...,\n",
       "       [   4,  655,  446, ...,    0,    0,    0],\n",
       "       [ 726,  220, 1535, ...,    0,    0,    0],\n",
       "       [ 127,   25,  172, ...,    0,    0,    0]], dtype=int32)"
      ]
     },
     "execution_count": 46,
     "metadata": {},
     "output_type": "execute_result"
    }
   ],
   "source": [
    "X_test"
   ]
  },
  {
   "cell_type": "code",
   "execution_count": 50,
   "metadata": {
    "colab": {
     "base_uri": "https://localhost:8080/"
    },
    "id": "DpcA6cUSwEKr",
    "outputId": "2f9b56b8-bdb0-470f-8298-f00a80e77515"
   },
   "outputs": [
    {
     "name": "stdout",
     "output_type": "stream",
     "text": [
      "49/49 [==============================] - 3s 53ms/step\n"
     ]
    },
    {
     "data": {
      "text/plain": [
       "array([[9.978203e-01],\n",
       "       [9.991311e-01],\n",
       "       [9.946677e-01],\n",
       "       ...,\n",
       "       [9.986151e-01],\n",
       "       [9.974534e-01],\n",
       "       [8.370409e-04]], dtype=float32)"
      ]
     },
     "execution_count": 50,
     "metadata": {},
     "output_type": "execute_result"
    }
   ],
   "source": [
    "y_test_pred = hypertuned_best_model.predict(X_test).mean(axis=1)\n",
    "y_test_pred"
   ]
  },
  {
   "cell_type": "code",
   "execution_count": 51,
   "metadata": {
    "colab": {
     "base_uri": "https://localhost:8080/"
    },
    "id": "Xxk8lBwbwEKr",
    "outputId": "8a6eeba7-16bb-4f92-e22f-6d3c829123ae"
   },
   "outputs": [
    {
     "data": {
      "text/plain": [
       "array([[1],\n",
       "       [1],\n",
       "       [1],\n",
       "       ...,\n",
       "       [1],\n",
       "       [1],\n",
       "       [0]], dtype=int32)"
      ]
     },
     "execution_count": 51,
     "metadata": {},
     "output_type": "execute_result"
    }
   ],
   "source": [
    "y_test_pred = (y_test_pred > 0.5).astype(\"int32\")\n",
    "y_test_pred"
   ]
  },
  {
   "cell_type": "code",
   "execution_count": 52,
   "metadata": {
    "colab": {
     "base_uri": "https://localhost:8080/"
    },
    "id": "5mcD57YxwEKs",
    "outputId": "b827395f-fab6-42fb-b1b0-dcdb073b69b1"
   },
   "outputs": [
    {
     "data": {
      "text/plain": [
       "array([[755,  28],\n",
       "       [ 36, 728]])"
      ]
     },
     "execution_count": 52,
     "metadata": {},
     "output_type": "execute_result"
    }
   ],
   "source": [
    "confusion_matrix = metrics.confusion_matrix(y_test, y_test_pred) \n",
    "confusion_matrix"
   ]
  },
  {
   "cell_type": "code",
   "execution_count": 53,
   "metadata": {
    "colab": {
     "base_uri": "https://localhost:8080/",
     "height": 279
    },
    "id": "5qs1KzEpwEKu",
    "outputId": "927ca319-a9a3-4fd1-b53c-3d242155206f"
   },
   "outputs": [
    {
     "data": {
      "image/png": "[encoded data removed]",
      "text/plain": [
       "<Figure size 432x288 with 2 Axes>"
      ]
     },
     "metadata": {
      "needs_background": "light"
     },
     "output_type": "display_data"
    }
   ],
   "source": [
    "cm_display = metrics.ConfusionMatrixDisplay(confusion_matrix = confusion_matrix, display_labels = [False, True]) \n",
    "cm_display.plot()\n",
    "plt.show() "
   ]
  },
  {
   "cell_type": "markdown",
   "metadata": {
    "id": "Q-X5RPq_wEKv"
   },
   "source": [
    "### Plot the training and testing accuracy and loss"
   ]
  },
  {
   "cell_type": "code",
   "execution_count": 54,
   "metadata": {
    "colab": {
     "base_uri": "https://localhost:8080/",
     "height": 423
    },
    "id": "ABO28MUGwEKv",
    "outputId": "a2bce61f-3cf5-4aed-a207-653cb4afbeca"
   },
   "outputs": [
    {
     "data": {
      "text/html": [
       "\n",
       "  <div id=\"df-61d3c1d6-61b9-4d79-b6d6-26f5eda52dec\">\n",
       "    <div class=\"colab-df-container\">\n",
       "      <div>\n",
       "<style scoped>\n",
       "    .dataframe tbody tr th:only-of-type {\n",
       "        vertical-align: middle;\n",
       "    }\n",
       "\n",
       "    .dataframe tbody tr th {\n",
       "        vertical-align: top;\n",
       "    }\n",
       "\n",
       "    .dataframe thead th {\n",
       "        text-align: right;\n",
       "    }\n",
       "</style>\n",
       "<table border=\"1\" class=\"dataframe\">\n",
       "  <thead>\n",
       "    <tr style=\"text-align: right;\">\n",
       "      <th></th>\n",
       "      <th>Unnamed: 0</th>\n",
       "      <th>loss</th>\n",
       "      <th>accuracy</th>\n",
       "      <th>val_loss</th>\n",
       "      <th>val_accuracy</th>\n",
       "    </tr>\n",
       "  </thead>\n",
       "  <tbody>\n",
       "    <tr>\n",
       "      <th>0</th>\n",
       "      <td>0</td>\n",
       "      <td>0.690082</td>\n",
       "      <td>0.619297</td>\n",
       "      <td>0.660372</td>\n",
       "      <td>0.579460</td>\n",
       "    </tr>\n",
       "    <tr>\n",
       "      <th>1</th>\n",
       "      <td>1</td>\n",
       "      <td>0.576823</td>\n",
       "      <td>0.710932</td>\n",
       "      <td>0.383965</td>\n",
       "      <td>0.866094</td>\n",
       "    </tr>\n",
       "    <tr>\n",
       "      <th>2</th>\n",
       "      <td>2</td>\n",
       "      <td>0.559547</td>\n",
       "      <td>0.717141</td>\n",
       "      <td>0.507367</td>\n",
       "      <td>0.774672</td>\n",
       "    </tr>\n",
       "    <tr>\n",
       "      <th>3</th>\n",
       "      <td>3</td>\n",
       "      <td>0.376507</td>\n",
       "      <td>0.877187</td>\n",
       "      <td>0.357820</td>\n",
       "      <td>0.887334</td>\n",
       "    </tr>\n",
       "    <tr>\n",
       "      <th>4</th>\n",
       "      <td>4</td>\n",
       "      <td>0.433718</td>\n",
       "      <td>0.834862</td>\n",
       "      <td>0.271400</td>\n",
       "      <td>0.920727</td>\n",
       "    </tr>\n",
       "    <tr>\n",
       "      <th>...</th>\n",
       "      <td>...</td>\n",
       "      <td>...</td>\n",
       "      <td>...</td>\n",
       "      <td>...</td>\n",
       "      <td>...</td>\n",
       "    </tr>\n",
       "    <tr>\n",
       "      <th>95</th>\n",
       "      <td>95</td>\n",
       "      <td>0.012210</td>\n",
       "      <td>0.995546</td>\n",
       "      <td>0.341278</td>\n",
       "      <td>0.943887</td>\n",
       "    </tr>\n",
       "    <tr>\n",
       "      <th>96</th>\n",
       "      <td>96</td>\n",
       "      <td>0.013227</td>\n",
       "      <td>0.995532</td>\n",
       "      <td>0.298907</td>\n",
       "      <td>0.948501</td>\n",
       "    </tr>\n",
       "    <tr>\n",
       "      <th>97</th>\n",
       "      <td>97</td>\n",
       "      <td>0.011546</td>\n",
       "      <td>0.995908</td>\n",
       "      <td>0.321342</td>\n",
       "      <td>0.944727</td>\n",
       "    </tr>\n",
       "    <tr>\n",
       "      <th>98</th>\n",
       "      <td>98</td>\n",
       "      <td>0.009065</td>\n",
       "      <td>0.996582</td>\n",
       "      <td>0.331830</td>\n",
       "      <td>0.945199</td>\n",
       "    </tr>\n",
       "    <tr>\n",
       "      <th>99</th>\n",
       "      <td>99</td>\n",
       "      <td>0.014582</td>\n",
       "      <td>0.995264</td>\n",
       "      <td>0.325247</td>\n",
       "      <td>0.951577</td>\n",
       "    </tr>\n",
       "  </tbody>\n",
       "</table>\n",
       "<p>100 rows × 5 columns</p>\n",
       "</div>\n",
       "      <button class=\"colab-df-convert\" onclick=\"convertToInteractive('df-61d3c1d6-61b9-4d79-b6d6-26f5eda52dec')\"\n",
       "              title=\"Convert this dataframe to an interactive table.\"\n",
       "              style=\"display:none;\">\n",
       "        \n",
       "  <svg xmlns=\"http://www.w3.org/2000/svg\" height=\"24px\"viewBox=\"0 0 24 24\"\n",
       "       width=\"24px\">\n",
       "    <path d=\"M0 0h24v24H0V0z\" fill=\"none\"/>\n",
       "    <path d=\"M18.56 5.44l.94 2.06.94-2.06 2.06-.94-2.06-.94-.94-2.06-.94 2.06-2.06.94zm-11 1L8.5 8.5l.94-2.06 2.06-.94-2.06-.94L8.5 2.5l-.94 2.06-2.06.94zm10 10l.94 2.06.94-2.06 2.06-.94-2.06-.94-.94-2.06-.94 2.06-2.06.94z\"/><path d=\"M17.41 7.96l-1.37-1.37c-.4-.4-.92-.59-1.43-.59-.52 0-1.04.2-1.43.59L10.3 9.45l-7.72 7.72c-.78.78-.78 2.05 0 2.83L4 21.41c.39.39.9.59 1.41.59.51 0 1.02-.2 1.41-.59l7.78-7.78 2.81-2.81c.8-.78.8-2.07 0-2.86zM5.41 20L4 18.59l7.72-7.72 1.47 1.35L5.41 20z\"/>\n",
       "  </svg>\n",
       "      </button>\n",
       "      \n",
       "  <style>\n",
       "    .colab-df-container {\n",
       "      display:flex;\n",
       "      flex-wrap:wrap;\n",
       "      gap: 12px;\n",
       "    }\n",
       "\n",
       "    .colab-df-convert {\n",
       "      background-color: #E8F0FE;\n",
       "      border: none;\n",
       "      border-radius: 50%;\n",
       "      cursor: pointer;\n",
       "      display: none;\n",
       "      fill: #1967D2;\n",
       "      height: 32px;\n",
       "      padding: 0 0 0 0;\n",
       "      width: 32px;\n",
       "    }\n",
       "\n",
       "    .colab-df-convert:hover {\n",
       "      background-color: #E2EBFA;\n",
       "      box-shadow: 0px 1px 2px rgba(60, 64, 67, 0.3), 0px 1px 3px 1px rgba(60, 64, 67, 0.15);\n",
       "      fill: #174EA6;\n",
       "    }\n",
       "\n",
       "    [theme=dark] .colab-df-convert {\n",
       "      background-color: #3B4455;\n",
       "      fill: #D2E3FC;\n",
       "    }\n",
       "\n",
       "    [theme=dark] .colab-df-convert:hover {\n",
       "      background-color: #434B5C;\n",
       "      box-shadow: 0px 1px 3px 1px rgba(0, 0, 0, 0.15);\n",
       "      filter: drop-shadow(0px 1px 2px rgba(0, 0, 0, 0.3));\n",
       "      fill: #FFFFFF;\n",
       "    }\n",
       "  </style>\n",
       "\n",
       "      <script>\n",
       "        const buttonEl =\n",
       "          document.querySelector('#df-61d3c1d6-61b9-4d79-b6d6-26f5eda52dec button.colab-df-convert');\n",
       "        buttonEl.style.display =\n",
       "          google.colab.kernel.accessAllowed ? 'block' : 'none';\n",
       "\n",
       "        async function convertToInteractive(key) {\n",
       "          const element = document.querySelector('#df-61d3c1d6-61b9-4d79-b6d6-26f5eda52dec');\n",
       "          const dataTable =\n",
       "            await google.colab.kernel.invokeFunction('convertToInteractive',\n",
       "                                                     [key], {});\n",
       "          if (!dataTable) return;\n",
       "\n",
       "          const docLinkHtml = 'Like what you see? Visit the ' +\n",
       "            '<a target=\"_blank\" href=https://colab.research.google.com/notebooks/data_table.ipynb>data table notebook</a>'\n",
       "            + ' to learn more about interactive tables.';\n",
       "          element.innerHTML = '';\n",
       "          dataTable['output_type'] = 'display_data';\n",
       "          await google.colab.output.renderOutput(dataTable, element);\n",
       "          const docLink = document.createElement('div');\n",
       "          docLink.innerHTML = docLinkHtml;\n",
       "          element.appendChild(docLink);\n",
       "        }\n",
       "      </script>\n",
       "    </div>\n",
       "  </div>\n",
       "  "
      ],
      "text/plain": [
       "    Unnamed: 0      loss  accuracy  val_loss  val_accuracy\n",
       "0            0  0.690082  0.619297  0.660372      0.579460\n",
       "1            1  0.576823  0.710932  0.383965      0.866094\n",
       "2            2  0.559547  0.717141  0.507367      0.774672\n",
       "3            3  0.376507  0.877187  0.357820      0.887334\n",
       "4            4  0.433718  0.834862  0.271400      0.920727\n",
       "..         ...       ...       ...       ...           ...\n",
       "95          95  0.012210  0.995546  0.341278      0.943887\n",
       "96          96  0.013227  0.995532  0.298907      0.948501\n",
       "97          97  0.011546  0.995908  0.321342      0.944727\n",
       "98          98  0.009065  0.996582  0.331830      0.945199\n",
       "99          99  0.014582  0.995264  0.325247      0.951577\n",
       "\n",
       "[100 rows x 5 columns]"
      ]
     },
     "execution_count": 54,
     "metadata": {},
     "output_type": "execute_result"
    }
   ],
   "source": [
    "hypertuned_history"
   ]
  },
  {
   "cell_type": "code",
   "execution_count": 55,
   "metadata": {
    "colab": {
     "base_uri": "https://localhost:8080/",
     "height": 573
    },
    "id": "EqP3TuRCwEKv",
    "outputId": "ae7322b0-5a3b-464c-b667-2d6516ff0483"
   },
   "outputs": [
    {
     "data": {
      "image/png": "[encoded data removed]",
      "text/plain": [
       "<Figure size 432x288 with 1 Axes>"
      ]
     },
     "metadata": {
      "needs_background": "light"
     },
     "output_type": "display_data"
    },
    {
     "data": {
      "image/png": "[encoded data removed]",
      "text/plain": [
       "<Figure size 432x288 with 1 Axes>"
      ]
     },
     "metadata": {
      "needs_background": "light"
     },
     "output_type": "display_data"
    }
   ],
   "source": [
    "plt.plot(hypertuned_history['accuracy'])\n",
    "plt.plot(hypertuned_history['val_accuracy'])\n",
    "\n",
    "plt.title('best model accuracy')\n",
    "plt.ylabel('accuracy')\n",
    "plt.xlabel('epoch')\n",
    "plt.legend(['train','validation'], loc='upper left')\n",
    "plt.show()\n",
    "\n",
    "plt.plot(hypertuned_history['loss'])\n",
    "plt.plot(hypertuned_history['val_loss'])\n",
    "\n",
    "plt.title('best model loss')\n",
    "plt.ylabel('loss')\n",
    "plt.xlabel('epoch')\n",
    "plt.legend(['train','validation'], loc='upper left')\n",
    "plt.show()"
   ]
  },
  {
   "cell_type": "markdown",
   "metadata": {
    "id": "HqkXNSFDVCw6"
   },
   "source": [
    "### Testing with random sentances"
   ]
  },
  {
   "cell_type": "code",
   "execution_count": 80,
   "metadata": {
    "id": "N4-lJM8uVRn_"
   },
   "outputs": [],
   "source": [
    "def predict_with_best_model(comment:str):\n",
    "  comment = textpreprocess(comment)\n",
    "  arr = tokenizer.texts_to_sequences([comment])\n",
    "  arr = pad_sequences(arr, maxlen=maxlen, truncating= trunc_type, padding=padding_type)\n",
    "  return (hypertuned_best_model.predict([arr],verbose=0).mean(axis=1)>0.5).astype(\"bool\")[0][0]"
   ]
  },
  {
   "cell_type": "code",
   "execution_count": 24,
   "metadata": {
    "id": "-Qt4bX9QUx-m"
   },
   "outputs": [],
   "source": [
    "def predict(comment:str):\n",
    "  comment = textpreprocess(comment)\n",
    "  arr = tokenizer.texts_to_sequences([comment])\n",
    "  arr = pad_sequences(arr, maxlen=maxlen, truncating= trunc_type, padding=padding_type)\n",
    "  return (model.predict([arr],verbose=0)>0.5).astype(\"bool\")[0][0]"
   ]
  },
  {
   "cell_type": "code",
   "execution_count": 78,
   "metadata": {
    "colab": {
     "base_uri": "https://localhost:8080/"
    },
    "id": "sWYobWAsVBNr",
    "outputId": "9d72db09-80ac-4ff5-c68e-2365d65b4176"
   },
   "outputs": [
    {
     "data": {
      "text/plain": [
       "True"
      ]
     },
     "execution_count": 78,
     "metadata": {},
     "output_type": "execute_result"
    }
   ],
   "source": [
    "predict(\"\"\"I've been struggling with depression for a \n",
    "          long time now but I just my first severe instance \n",
    "          of depersonalization and it scared me so badly i m not \n",
    "          even entirely sure why but something about the fact that \n",
    "          i just spent over an hour lying on the floor feeling like \n",
    "          my body didn t really belong to me and i might not be real \n",
    "          is so extremely unsettling to me i feel more mentally.\"\"\")"
   ]
  },
  {
   "cell_type": "code",
   "execution_count": 62,
   "metadata": {},
   "outputs": [
    {
     "data": {
      "text/plain": [
       "False"
      ]
     },
     "execution_count": 62,
     "metadata": {},
     "output_type": "execute_result"
    }
   ],
   "source": [
    "predict(\"I am not sad. I am recovering from sadness. I am working on getting a better job and also woring out, meeting new people.\")"
   ]
  },
  {
   "cell_type": "code",
   "execution_count": 81,
   "metadata": {
    "colab": {
     "base_uri": "https://localhost:8080/"
    },
    "id": "n-Yf2AwQYZHd",
    "outputId": "aac46045-e2cd-4f0a-bd7d-20abd5f5831c"
   },
   "outputs": [
    {
     "data": {
      "text/plain": [
       "True"
      ]
     },
     "execution_count": 81,
     "metadata": {},
     "output_type": "execute_result"
    }
   ],
   "source": [
    "predict_with_best_model(\"\"\"I've been struggling with depression for a \n",
    "          long time now but I just my first severe instance \n",
    "          of depersonalization and it scared me so badly i m not \n",
    "          even entirely sure why but something about the fact that \n",
    "          i just spent over an hour lying on the floor feeling like \n",
    "          my body didn t really belong to me and i might not be real \n",
    "          is so extremely unsettling to me i feel more mentally.\"\"\")"
   ]
  },
  {
   "cell_type": "code",
   "execution_count": 82,
   "metadata": {
    "colab": {
     "base_uri": "https://localhost:8080/"
    },
    "id": "9HWv5e-6Yge0",
    "outputId": "d9d41be5-726c-43e6-826e-6dac9d7bce52"
   },
   "outputs": [
    {
     "data": {
      "text/plain": [
       "False"
      ]
     },
     "execution_count": 82,
     "metadata": {},
     "output_type": "execute_result"
    }
   ],
   "source": [
    "predict(\"\"\"I am really happy.\"\"\")"
   ]
  },
  {
   "cell_type": "code",
   "execution_count": 83,
   "metadata": {
    "colab": {
     "base_uri": "https://localhost:8080/"
    },
    "id": "A8uwr-65Ylv8",
    "outputId": "3303ae13-1b42-4209-8496-d57737e3a7a5"
   },
   "outputs": [
    {
     "data": {
      "text/plain": [
       "False"
      ]
     },
     "execution_count": 83,
     "metadata": {},
     "output_type": "execute_result"
    }
   ],
   "source": [
    "predict_with_best_model(\"\"\"I am really happy.\"\"\")"
   ]
  },
  {
   "cell_type": "code",
   "execution_count": 87,
   "metadata": {
    "colab": {
     "base_uri": "https://localhost:8080/"
    },
    "id": "bpfvNGEeY4_B",
    "outputId": "37286851-e273-4e09-8a80-f37888b1d681"
   },
   "outputs": [
    {
     "data": {
      "text/plain": [
       "True"
      ]
     },
     "execution_count": 87,
     "metadata": {},
     "output_type": "execute_result"
    }
   ],
   "source": [
    "predict(\"\"\"I feel like dying as everyone make me feel like shit.\"\"\")"
   ]
  },
  {
   "cell_type": "code",
   "execution_count": 86,
   "metadata": {
    "colab": {
     "base_uri": "https://localhost:8080/"
    },
    "id": "VGmdItvsYsPO",
    "outputId": "7a79ec7f-2947-4241-8bca-9fc9933aa1c1"
   },
   "outputs": [
    {
     "data": {
      "text/plain": [
       "True"
      ]
     },
     "execution_count": 86,
     "metadata": {},
     "output_type": "execute_result"
    }
   ],
   "source": [
    "predict_with_best_model(\"\"\"I feel like dying as everyone make me feel like shit.\"\"\")"
   ]
  }
 ],
 "metadata": {
  "accelerator": "GPU",
  "colab": {
   "provenance": []
  },
  "gpuClass": "standard",
  "kernelspec": {
   "display_name": "tensorflow_cpu",
   "language": "python",
   "name": "tensorflow_cpu"
  },
  "language_info": {
   "codemirror_mode": {
    "name": "ipython",
    "version": 3
   },
   "file_extension": ".py",
   "mimetype": "text/x-python",
   "name": "python",
   "nbconvert_exporter": "python",
   "pygments_lexer": "ipython3",
   "version": "3.10.10"
  },
  "vscode": {
   "interpreter": {
    "hash": "2ce312926b26cecd6547c5b32596d50939b28d8fd1baf35d11dda46263c21795"
   }
  }
 },
 "nbformat": 4,
 "nbformat_minor": 1
}
